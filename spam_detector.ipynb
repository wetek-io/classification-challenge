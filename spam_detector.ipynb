{
 "cells": [
  {
   "cell_type": "code",
   "execution_count": 289,
   "metadata": {},
   "outputs": [],
   "source": [
    "# imports\n",
    "import pandas as pd\n",
    "import numpy as np\n",
    "from sklearn.model_selection import train_test_split\n",
    "from sklearn.metrics import accuracy_score\n",
    "from sklearn.model_selection import cross_val_score\n",
    "from sklearn.preprocessing import StandardScaler\n",
    "from sklearn.linear_model import LogisticRegression\n",
    "from sklearn.ensemble import RandomForestClassifier"
   ]
  },
  {
   "cell_type": "code",
   "execution_count": 290,
   "metadata": {},
   "outputs": [],
   "source": [
    "# create dataframe\n",
    "df = pd.read_csv(\"data/spam-data.csv\")"
   ]
  },
  {
   "cell_type": "code",
   "execution_count": 291,
   "metadata": {},
   "outputs": [
    {
     "name": "stdout",
     "output_type": "stream",
     "text": [
      "(4601, 58)\n",
      "Index(['word_freq_make', 'word_freq_address', 'word_freq_all', 'word_freq_3d',\n",
      "       'word_freq_our', 'word_freq_over', 'word_freq_remove',\n",
      "       'word_freq_internet', 'word_freq_order', 'word_freq_mail',\n",
      "       'word_freq_receive', 'word_freq_will', 'word_freq_people',\n",
      "       'word_freq_report', 'word_freq_addresses', 'word_freq_free',\n",
      "       'word_freq_business', 'word_freq_email', 'word_freq_you',\n",
      "       'word_freq_credit', 'word_freq_your', 'word_freq_font', 'word_freq_000',\n",
      "       'word_freq_money', 'word_freq_hp', 'word_freq_hpl', 'word_freq_george',\n",
      "       'word_freq_650', 'word_freq_lab', 'word_freq_labs', 'word_freq_telnet',\n",
      "       'word_freq_857', 'word_freq_data', 'word_freq_415', 'word_freq_85',\n",
      "       'word_freq_technology', 'word_freq_1999', 'word_freq_parts',\n",
      "       'word_freq_pm', 'word_freq_direct', 'word_freq_cs', 'word_freq_meeting',\n",
      "       'word_freq_original', 'word_freq_project', 'word_freq_re',\n",
      "       'word_freq_edu', 'word_freq_table', 'word_freq_conference',\n",
      "       'char_freq_;', 'char_freq_(', 'char_freq_[', 'char_freq_!',\n",
      "       'char_freq_$', 'char_freq_#', 'capital_run_length_average',\n",
      "       'capital_run_length_longest', 'capital_run_length_total', 'spam'],\n",
      "      dtype='object')\n"
     ]
    }
   ],
   "source": [
    "df = df.dropna()\n",
    "print(df.shape)\n",
    "print(df.columns)"
   ]
  },
  {
   "cell_type": "code",
   "execution_count": 292,
   "metadata": {},
   "outputs": [
    {
     "data": {
      "text/html": [
       "<div>\n",
       "<style scoped>\n",
       "    .dataframe tbody tr th:only-of-type {\n",
       "        vertical-align: middle;\n",
       "    }\n",
       "\n",
       "    .dataframe tbody tr th {\n",
       "        vertical-align: top;\n",
       "    }\n",
       "\n",
       "    .dataframe thead th {\n",
       "        text-align: right;\n",
       "    }\n",
       "</style>\n",
       "<table border=\"1\" class=\"dataframe\">\n",
       "  <thead>\n",
       "    <tr style=\"text-align: right;\">\n",
       "      <th></th>\n",
       "      <th>word_freq_make</th>\n",
       "      <th>word_freq_address</th>\n",
       "      <th>word_freq_all</th>\n",
       "      <th>word_freq_3d</th>\n",
       "      <th>word_freq_our</th>\n",
       "      <th>word_freq_over</th>\n",
       "      <th>word_freq_remove</th>\n",
       "      <th>word_freq_internet</th>\n",
       "      <th>word_freq_order</th>\n",
       "      <th>word_freq_mail</th>\n",
       "      <th>...</th>\n",
       "      <th>char_freq_;</th>\n",
       "      <th>char_freq_(</th>\n",
       "      <th>char_freq_[</th>\n",
       "      <th>char_freq_!</th>\n",
       "      <th>char_freq_$</th>\n",
       "      <th>char_freq_#</th>\n",
       "      <th>capital_run_length_average</th>\n",
       "      <th>capital_run_length_longest</th>\n",
       "      <th>capital_run_length_total</th>\n",
       "      <th>spam</th>\n",
       "    </tr>\n",
       "  </thead>\n",
       "  <tbody>\n",
       "    <tr>\n",
       "      <th>3757</th>\n",
       "      <td>0.00</td>\n",
       "      <td>0.29</td>\n",
       "      <td>0.29</td>\n",
       "      <td>0.0</td>\n",
       "      <td>0.29</td>\n",
       "      <td>0.00</td>\n",
       "      <td>0.00</td>\n",
       "      <td>0.29</td>\n",
       "      <td>0.00</td>\n",
       "      <td>0.00</td>\n",
       "      <td>...</td>\n",
       "      <td>0.037</td>\n",
       "      <td>0.113</td>\n",
       "      <td>0.000</td>\n",
       "      <td>0.000</td>\n",
       "      <td>0.037</td>\n",
       "      <td>0.000</td>\n",
       "      <td>1.531</td>\n",
       "      <td>7</td>\n",
       "      <td>147</td>\n",
       "      <td>0</td>\n",
       "    </tr>\n",
       "    <tr>\n",
       "      <th>1153</th>\n",
       "      <td>0.74</td>\n",
       "      <td>0.74</td>\n",
       "      <td>0.74</td>\n",
       "      <td>0.0</td>\n",
       "      <td>0.00</td>\n",
       "      <td>0.00</td>\n",
       "      <td>0.37</td>\n",
       "      <td>0.00</td>\n",
       "      <td>0.37</td>\n",
       "      <td>1.12</td>\n",
       "      <td>...</td>\n",
       "      <td>0.000</td>\n",
       "      <td>0.000</td>\n",
       "      <td>0.061</td>\n",
       "      <td>0.061</td>\n",
       "      <td>0.122</td>\n",
       "      <td>0.000</td>\n",
       "      <td>4.727</td>\n",
       "      <td>57</td>\n",
       "      <td>208</td>\n",
       "      <td>1</td>\n",
       "    </tr>\n",
       "    <tr>\n",
       "      <th>1957</th>\n",
       "      <td>0.00</td>\n",
       "      <td>0.00</td>\n",
       "      <td>0.48</td>\n",
       "      <td>0.0</td>\n",
       "      <td>0.00</td>\n",
       "      <td>0.00</td>\n",
       "      <td>0.00</td>\n",
       "      <td>0.00</td>\n",
       "      <td>0.00</td>\n",
       "      <td>0.00</td>\n",
       "      <td>...</td>\n",
       "      <td>0.000</td>\n",
       "      <td>0.000</td>\n",
       "      <td>0.000</td>\n",
       "      <td>0.000</td>\n",
       "      <td>0.000</td>\n",
       "      <td>0.000</td>\n",
       "      <td>1.353</td>\n",
       "      <td>7</td>\n",
       "      <td>88</td>\n",
       "      <td>0</td>\n",
       "    </tr>\n",
       "    <tr>\n",
       "      <th>2640</th>\n",
       "      <td>0.00</td>\n",
       "      <td>0.39</td>\n",
       "      <td>0.19</td>\n",
       "      <td>0.0</td>\n",
       "      <td>0.19</td>\n",
       "      <td>0.09</td>\n",
       "      <td>0.00</td>\n",
       "      <td>0.00</td>\n",
       "      <td>0.00</td>\n",
       "      <td>0.00</td>\n",
       "      <td>...</td>\n",
       "      <td>1.352</td>\n",
       "      <td>0.080</td>\n",
       "      <td>0.000</td>\n",
       "      <td>0.016</td>\n",
       "      <td>0.000</td>\n",
       "      <td>0.000</td>\n",
       "      <td>1.679</td>\n",
       "      <td>17</td>\n",
       "      <td>178</td>\n",
       "      <td>0</td>\n",
       "    </tr>\n",
       "    <tr>\n",
       "      <th>1611</th>\n",
       "      <td>0.77</td>\n",
       "      <td>0.38</td>\n",
       "      <td>0.77</td>\n",
       "      <td>0.0</td>\n",
       "      <td>0.00</td>\n",
       "      <td>0.57</td>\n",
       "      <td>0.00</td>\n",
       "      <td>0.57</td>\n",
       "      <td>1.15</td>\n",
       "      <td>1.15</td>\n",
       "      <td>...</td>\n",
       "      <td>0.027</td>\n",
       "      <td>0.027</td>\n",
       "      <td>0.000</td>\n",
       "      <td>0.438</td>\n",
       "      <td>0.191</td>\n",
       "      <td>0.054</td>\n",
       "      <td>14.619</td>\n",
       "      <td>525</td>\n",
       "      <td>921</td>\n",
       "      <td>1</td>\n",
       "    </tr>\n",
       "  </tbody>\n",
       "</table>\n",
       "<p>5 rows × 58 columns</p>\n",
       "</div>"
      ],
      "text/plain": [
       "      word_freq_make  word_freq_address  word_freq_all  word_freq_3d  \\\n",
       "3757            0.00               0.29           0.29           0.0   \n",
       "1153            0.74               0.74           0.74           0.0   \n",
       "1957            0.00               0.00           0.48           0.0   \n",
       "2640            0.00               0.39           0.19           0.0   \n",
       "1611            0.77               0.38           0.77           0.0   \n",
       "\n",
       "      word_freq_our  word_freq_over  word_freq_remove  word_freq_internet  \\\n",
       "3757           0.29            0.00              0.00                0.29   \n",
       "1153           0.00            0.00              0.37                0.00   \n",
       "1957           0.00            0.00              0.00                0.00   \n",
       "2640           0.19            0.09              0.00                0.00   \n",
       "1611           0.00            0.57              0.00                0.57   \n",
       "\n",
       "      word_freq_order  word_freq_mail  ...  char_freq_;  char_freq_(  \\\n",
       "3757             0.00            0.00  ...        0.037        0.113   \n",
       "1153             0.37            1.12  ...        0.000        0.000   \n",
       "1957             0.00            0.00  ...        0.000        0.000   \n",
       "2640             0.00            0.00  ...        1.352        0.080   \n",
       "1611             1.15            1.15  ...        0.027        0.027   \n",
       "\n",
       "      char_freq_[  char_freq_!  char_freq_$  char_freq_#  \\\n",
       "3757        0.000        0.000        0.037        0.000   \n",
       "1153        0.061        0.061        0.122        0.000   \n",
       "1957        0.000        0.000        0.000        0.000   \n",
       "2640        0.000        0.016        0.000        0.000   \n",
       "1611        0.000        0.438        0.191        0.054   \n",
       "\n",
       "      capital_run_length_average  capital_run_length_longest  \\\n",
       "3757                       1.531                           7   \n",
       "1153                       4.727                          57   \n",
       "1957                       1.353                           7   \n",
       "2640                       1.679                          17   \n",
       "1611                      14.619                         525   \n",
       "\n",
       "      capital_run_length_total  spam  \n",
       "3757                       147     0  \n",
       "1153                       208     1  \n",
       "1957                        88     0  \n",
       "2640                       178     0  \n",
       "1611                       921     1  \n",
       "\n",
       "[5 rows x 58 columns]"
      ]
     },
     "execution_count": 292,
     "metadata": {},
     "output_type": "execute_result"
    }
   ],
   "source": [
    "df.sample(n=5)"
   ]
  },
  {
   "cell_type": "code",
   "execution_count": 293,
   "metadata": {},
   "outputs": [
    {
     "name": "stdout",
     "output_type": "stream",
     "text": [
      "y value counts: spam\n",
      "0    2788\n",
      "1    1813\n",
      "Name: count, dtype: int64\n",
      "y_train value counts: spam\n",
      "0    2112\n",
      "1    1338\n",
      "Name: count, dtype: int64\n",
      "y_test value counts: spam\n",
      "0    676\n",
      "1    475\n",
      "Name: count, dtype: int64\n"
     ]
    }
   ],
   "source": [
    "# setup split test\n",
    "\n",
    "# first split\n",
    "X = df.drop(columns=[\"spam\"])\n",
    "y = df[\"spam\"]\n",
    "\n",
    "\n",
    "# second split\n",
    "X_train, X_test, Y_train, Y_test = train_test_split(\n",
    "    X, y, random_state=42, test_size=0.25\n",
    ")\n",
    "\n",
    "print(f\"y value counts: {y.value_counts()}\")\n",
    "print(f\"y_train value counts: {Y_train.value_counts()}\")\n",
    "print(f\"y_test value counts: {Y_test.value_counts()}\")"
   ]
  },
  {
   "cell_type": "code",
   "execution_count": 294,
   "metadata": {},
   "outputs": [
    {
     "data": {
      "image/png": "[encoded data removed]",
      "text/plain": [
       "<Figure size 640x480 with 1 Axes>"
      ]
     },
     "metadata": {},
     "output_type": "display_data"
    }
   ],
   "source": [
    "# extra layer of validation\n",
    "import matplotlib.pyplot as plt\n",
    "import seaborn as sns\n",
    "\n",
    "sns.countplot(x=Y_train, data=df, hue=Y_train, palette=\"hls\")\n",
    "plt.show()"
   ]
  },
  {
   "cell_type": "code",
   "execution_count": 295,
   "metadata": {},
   "outputs": [
    {
     "data": {
      "image/png": "[encoded data removed]",
      "text/plain": [
       "<Figure size 640x480 with 1 Axes>"
      ]
     },
     "metadata": {},
     "output_type": "display_data"
    }
   ],
   "source": [
    "sns.countplot(x=Y_test, data=df, hue=Y_test, palette=\"hls\")\n",
    "plt.show()"
   ]
  },
  {
   "cell_type": "code",
   "execution_count": 296,
   "metadata": {},
   "outputs": [
    {
     "name": "stdout",
     "output_type": "stream",
     "text": [
      "no_spam_sample_size: 0.6121739130434782\n",
      "spam_sample_size: 0.38782608695652177\n"
     ]
    }
   ],
   "source": [
    "# plot validation\n",
    "cns_tr, cs_tr = Y_train.value_counts()\n",
    "\n",
    "no_spam_sample_size = cns_tr / (cns_tr + cs_tr)\n",
    "spam_sample_size = cs_tr / (cns_tr + cs_tr)\n",
    "\n",
    "print(f\"no_spam_sample_size: {no_spam_sample_size}\")\n",
    "print(f\"spam_sample_size: {spam_sample_size}\")"
   ]
  },
  {
   "cell_type": "code",
   "execution_count": 297,
   "metadata": {},
   "outputs": [
    {
     "name": "stdout",
     "output_type": "stream",
     "text": [
      "no_spam_sample_size: 0.5873153779322329\n",
      "spam_sample_size: 0.4126846220677672\n"
     ]
    }
   ],
   "source": [
    "# plot validation\n",
    "cns_te, cs_te = Y_test.value_counts()\n",
    "\n",
    "no_spam_sample_size = cns_te / (cns_te + cs_te)\n",
    "spam_sample_size = cs_te / (cns_te + cs_te)\n",
    "\n",
    "print(f\"no_spam_sample_size: {no_spam_sample_size}\")\n",
    "print(f\"spam_sample_size: {spam_sample_size}\")"
   ]
  },
  {
   "cell_type": "code",
   "execution_count": 298,
   "metadata": {},
   "outputs": [],
   "source": [
    "# initiate scaler\n",
    "scaler = StandardScaler().set_output(transform=\"pandas\")\n",
    "\n",
    "# scale features\n",
    "X_train_scl = scaler.fit_transform(X_train)\n",
    "X_test_scl = scaler.transform(X_test)"
   ]
  },
  {
   "cell_type": "code",
   "execution_count": 299,
   "metadata": {},
   "outputs": [
    {
     "name": "stdout",
     "output_type": "stream",
     "text": [
      "0.9226759339704604\n"
     ]
    }
   ],
   "source": [
    "# initiate logistical regression\n",
    "logreg = LogisticRegression(random_state=1)\n",
    "\n",
    "# fit\n",
    "logreg.fit(X_train_scl, Y_train)\n",
    "\n",
    "# predict\n",
    "y_predict = logreg.predict(X_test_scl)\n",
    "\n",
    "# accuracy\n",
    "acc_score = accuracy_score(Y_test, y_predict)\n",
    "print(acc_score)"
   ]
  },
  {
   "cell_type": "code",
   "execution_count": 300,
   "metadata": {},
   "outputs": [
    {
     "name": "stdout",
     "output_type": "stream",
     "text": [
      "values_scores: [0.92463768 0.90869565 0.92318841 0.93623188 0.92463768]\n",
      "values_scores mean: 0.9234782608695653\n"
     ]
    }
   ],
   "source": [
    "# validate score\n",
    "values_scores = cross_val_score(logreg, X_train_scl, Y_train, scoring=\"accuracy\")\n",
    "print(f\"values_scores: {values_scores}\")\n",
    "print(f\"values_scores mean: {values_scores.mean()}\")"
   ]
  },
  {
   "cell_type": "code",
   "execution_count": 301,
   "metadata": {},
   "outputs": [],
   "source": [
    "# initiate random forest classifier\n",
    "rand_clf = RandomForestClassifier(random_state=1)\n",
    "\n",
    "# fit classifier\n",
    "rand_clf.fit(X_train_scl, Y_train)\n",
    "\n",
    "# predict\n",
    "clf_predict = rand_clf.predict(X_test_scl)"
   ]
  },
  {
   "cell_type": "code",
   "execution_count": 302,
   "metadata": {},
   "outputs": [
    {
     "name": "stdout",
     "output_type": "stream",
     "text": [
      "0.9582971329278888\n"
     ]
    }
   ],
   "source": [
    "# check accuracy\n",
    "rand_clf_score = accuracy_score(Y_test, clf_predict)\n",
    "print(rand_clf_score)"
   ]
  },
  {
   "cell_type": "code",
   "execution_count": 303,
   "metadata": {},
   "outputs": [
    {
     "name": "stdout",
     "output_type": "stream",
     "text": [
      "rand_clf_value_score: [0.95507246 0.93478261 0.94057971 0.95797101 0.96086957]\n",
      "rand_clf_value_score mean: 0.9498550724637681\n"
     ]
    }
   ],
   "source": [
    "# validate accuracy\n",
    "rand_clf_value_score = cross_val_score(\n",
    "    rand_clf, X_train_scl, Y_train, scoring=\"accuracy\"\n",
    ")\n",
    "print(f\"rand_clf_value_score: {rand_clf_value_score}\")\n",
    "print(f\"rand_clf_value_score mean: {rand_clf_value_score.mean()}\")"
   ]
  },
  {
   "cell_type": "markdown",
   "metadata": {},
   "source": [
    "## Evaluation\n",
    "\n",
    "### 1. Which model performed better?\n",
    "\n",
    "Based on the accuracy scores, the Random Forest model performed better than the Logistic Regression model. The average accuracy from cross-validation for the Random Forest model was approximately 0.9499 (94.99%), while the Logistic Regression model achieved an average accuracy of 0.9235 (92.35%). This indicates that the Random Forest model has slightly higher accuracy and, therefore, performs better on this task.\n",
    "\n",
    "### 2. How does that compare to your prediction?\n",
    "\n",
    "If the initial prediction was that Random Forest would outperform Logistic Regression (due to its ability to capture complex patterns and interactions within the data), then the results confirm this prediction. Random Forest’s ensemble approach generally makes it more powerful for classification tasks, which aligns with the observed performance difference. However, if the prediction was the opposite (expecting Logistic Regression to perform better), then the results do not align with the prediction.\n"
   ]
  }
 ],
 "metadata": {
  "kernelspec": {
   "display_name": "base",
   "language": "python",
   "name": "python3"
  },
  "language_info": {
   "codemirror_mode": {
    "name": "ipython",
    "version": 3
   },
   "file_extension": ".py",
   "mimetype": "text/x-python",
   "name": "python",
   "nbconvert_exporter": "python",
   "pygments_lexer": "ipython3",
   "version": "3.12.4"
  }
 },
 "nbformat": 4,
 "nbformat_minor": 2
}
